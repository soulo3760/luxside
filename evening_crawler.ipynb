{
 "cells": [
  {
   "cell_type": "code",
   "execution_count": 64,
   "id": "c3178eb2",
   "metadata": {},
   "outputs": [
    {
     "data": {
      "text/html": [
       "<div>\n",
       "<style scoped>\n",
       "    .dataframe tbody tr th:only-of-type {\n",
       "        vertical-align: middle;\n",
       "    }\n",
       "\n",
       "    .dataframe tbody tr th {\n",
       "        vertical-align: top;\n",
       "    }\n",
       "\n",
       "    .dataframe thead th {\n",
       "        text-align: right;\n",
       "    }\n",
       "</style>\n",
       "<table border=\"1\" class=\"dataframe\">\n",
       "  <thead>\n",
       "    <tr style=\"text-align: right;\">\n",
       "      <th></th>\n",
       "      <th>Name</th>\n",
       "      <th>current_price</th>\n",
       "      <th>old_price</th>\n",
       "      <th>percent_discount</th>\n",
       "      <th>Reviews_no</th>\n",
       "      <th>Ratings</th>\n",
       "    </tr>\n",
       "  </thead>\n",
       "  <tbody>\n",
       "    <tr>\n",
       "      <th>0</th>\n",
       "      <td>Amtec AM-017-2.1 Speaker System 3000WATTS PMPO...</td>\n",
       "      <td>KSh 2,697</td>\n",
       "      <td>KSh 3,236</td>\n",
       "      <td>17%</td>\n",
       "      <td>(194)</td>\n",
       "      <td>3.8 out of 5</td>\n",
       "    </tr>\n",
       "    <tr>\n",
       "      <th>1</th>\n",
       "      <td>Amtec AM-03 2.1ch HI-FI Multimedia Speaker Sys...</td>\n",
       "      <td>KSh 5,281</td>\n",
       "      <td>KSh 6,607</td>\n",
       "      <td>20%</td>\n",
       "      <td>(79)</td>\n",
       "      <td>3.8 out of 5</td>\n",
       "    </tr>\n",
       "    <tr>\n",
       "      <th>2</th>\n",
       "      <td>WK 07 2.1CH HOME THEATER SPEAKER SYSTEM - 3000...</td>\n",
       "      <td>KSh 3,034</td>\n",
       "      <td>KSh 3,641</td>\n",
       "      <td>17%</td>\n",
       "      <td>(56)</td>\n",
       "      <td>3.8 out of 5</td>\n",
       "    </tr>\n",
       "    <tr>\n",
       "      <th>3</th>\n",
       "      <td>Vitron V635 3.1CH Multimedia Speaker System - ...</td>\n",
       "      <td>KSh 5,169</td>\n",
       "      <td>KSh 6,203</td>\n",
       "      <td>17%</td>\n",
       "      <td>(481)</td>\n",
       "      <td>4.1 out of 5</td>\n",
       "    </tr>\n",
       "    <tr>\n",
       "      <th>4</th>\n",
       "      <td>Amtec AM-109 Woofer System, Bluetooth,USB Oran...</td>\n",
       "      <td>KSh 2,921</td>\n",
       "      <td>KSh 3,505</td>\n",
       "      <td>17%</td>\n",
       "      <td>(150)</td>\n",
       "      <td>3.9 out of 5</td>\n",
       "    </tr>\n",
       "  </tbody>\n",
       "</table>\n",
       "</div>"
      ],
      "text/plain": [
       "                                                Name current_price  old_price  \\\n",
       "0  Amtec AM-017-2.1 Speaker System 3000WATTS PMPO...     KSh 2,697  KSh 3,236   \n",
       "1  Amtec AM-03 2.1ch HI-FI Multimedia Speaker Sys...     KSh 5,281  KSh 6,607   \n",
       "2  WK 07 2.1CH HOME THEATER SPEAKER SYSTEM - 3000...     KSh 3,034  KSh 3,641   \n",
       "3  Vitron V635 3.1CH Multimedia Speaker System - ...     KSh 5,169  KSh 6,203   \n",
       "4  Amtec AM-109 Woofer System, Bluetooth,USB Oran...     KSh 2,921  KSh 3,505   \n",
       "\n",
       "  percent_discount Reviews_no       Ratings  \n",
       "0              17%      (194)  3.8 out of 5  \n",
       "1              20%       (79)  3.8 out of 5  \n",
       "2              17%       (56)  3.8 out of 5  \n",
       "3              17%      (481)  4.1 out of 5  \n",
       "4              17%      (150)  3.9 out of 5  "
      ]
     },
     "execution_count": 64,
     "metadata": {},
     "output_type": "execute_result"
    }
   ],
   "source": [
    "import pandas as pd\n",
    "\n",
    "jumia_df = pd.read_csv('jumia.csv')\n",
    "jumia_df.head()\n",
    "\n",
    "#rename the columns\n",
    "jumia_df.columns = ['HT_name','current_price','old_price','percent_discount','Reviews_no','Ratings']\n",
    "jumia_df.head()\n",
    "\n",
    "jumia_df.head()\n",
    "#replace the one column\n",
    "jumia_df = jumia_df.rename(columns={'HT_name': 'Name'})\n",
    "jumia_df.head()\n",
    "\n"
   ]
  },
  {
   "cell_type": "code",
   "execution_count": 65,
   "id": "0a457374",
   "metadata": {},
   "outputs": [
    {
     "data": {
      "text/html": [
       "<div>\n",
       "<style scoped>\n",
       "    .dataframe tbody tr th:only-of-type {\n",
       "        vertical-align: middle;\n",
       "    }\n",
       "\n",
       "    .dataframe tbody tr th {\n",
       "        vertical-align: top;\n",
       "    }\n",
       "\n",
       "    .dataframe thead th {\n",
       "        text-align: right;\n",
       "    }\n",
       "</style>\n",
       "<table border=\"1\" class=\"dataframe\">\n",
       "  <thead>\n",
       "    <tr style=\"text-align: right;\">\n",
       "      <th></th>\n",
       "      <th>Name</th>\n",
       "      <th>current_price</th>\n",
       "      <th>old_price</th>\n",
       "      <th>percent_discount</th>\n",
       "      <th>Reviews_no</th>\n",
       "      <th>Ratings</th>\n",
       "    </tr>\n",
       "  </thead>\n",
       "  <tbody>\n",
       "    <tr>\n",
       "      <th>0</th>\n",
       "      <td>Amtec AM-017-2.1 Speaker System 3000WATTS PMPO...</td>\n",
       "      <td>2697.0</td>\n",
       "      <td>KSh 3,236</td>\n",
       "      <td>17%</td>\n",
       "      <td>(194)</td>\n",
       "      <td>3.8 out of 5</td>\n",
       "    </tr>\n",
       "    <tr>\n",
       "      <th>1</th>\n",
       "      <td>Amtec AM-03 2.1ch HI-FI Multimedia Speaker Sys...</td>\n",
       "      <td>5281.0</td>\n",
       "      <td>KSh 6,607</td>\n",
       "      <td>20%</td>\n",
       "      <td>(79)</td>\n",
       "      <td>3.8 out of 5</td>\n",
       "    </tr>\n",
       "    <tr>\n",
       "      <th>2</th>\n",
       "      <td>WK 07 2.1CH HOME THEATER SPEAKER SYSTEM - 3000...</td>\n",
       "      <td>3034.0</td>\n",
       "      <td>KSh 3,641</td>\n",
       "      <td>17%</td>\n",
       "      <td>(56)</td>\n",
       "      <td>3.8 out of 5</td>\n",
       "    </tr>\n",
       "    <tr>\n",
       "      <th>3</th>\n",
       "      <td>Vitron V635 3.1CH Multimedia Speaker System - ...</td>\n",
       "      <td>5169.0</td>\n",
       "      <td>KSh 6,203</td>\n",
       "      <td>17%</td>\n",
       "      <td>(481)</td>\n",
       "      <td>4.1 out of 5</td>\n",
       "    </tr>\n",
       "    <tr>\n",
       "      <th>4</th>\n",
       "      <td>Amtec AM-109 Woofer System, Bluetooth,USB Oran...</td>\n",
       "      <td>2921.0</td>\n",
       "      <td>KSh 3,505</td>\n",
       "      <td>17%</td>\n",
       "      <td>(150)</td>\n",
       "      <td>3.9 out of 5</td>\n",
       "    </tr>\n",
       "  </tbody>\n",
       "</table>\n",
       "</div>"
      ],
      "text/plain": [
       "                                                Name  current_price  \\\n",
       "0  Amtec AM-017-2.1 Speaker System 3000WATTS PMPO...         2697.0   \n",
       "1  Amtec AM-03 2.1ch HI-FI Multimedia Speaker Sys...         5281.0   \n",
       "2  WK 07 2.1CH HOME THEATER SPEAKER SYSTEM - 3000...         3034.0   \n",
       "3  Vitron V635 3.1CH Multimedia Speaker System - ...         5169.0   \n",
       "4  Amtec AM-109 Woofer System, Bluetooth,USB Oran...         2921.0   \n",
       "\n",
       "   old_price percent_discount Reviews_no       Ratings  \n",
       "0  KSh 3,236              17%      (194)  3.8 out of 5  \n",
       "1  KSh 6,607              20%       (79)  3.8 out of 5  \n",
       "2  KSh 3,641              17%       (56)  3.8 out of 5  \n",
       "3  KSh 6,203              17%      (481)  4.1 out of 5  \n",
       "4  KSh 3,505              17%      (150)  3.9 out of 5  "
      ]
     },
     "execution_count": 65,
     "metadata": {},
     "output_type": "execute_result"
    }
   ],
   "source": [
    "jumia_df['current_price'] = jumia_df['current_price'].str.replace('KSh', '').str.replace(',', '').astype(float)\n",
    "jumia_df.head()"
   ]
  },
  {
   "cell_type": "code",
   "execution_count": 66,
   "id": "730bf1af",
   "metadata": {},
   "outputs": [
    {
     "data": {
      "text/html": [
       "<div>\n",
       "<style scoped>\n",
       "    .dataframe tbody tr th:only-of-type {\n",
       "        vertical-align: middle;\n",
       "    }\n",
       "\n",
       "    .dataframe tbody tr th {\n",
       "        vertical-align: top;\n",
       "    }\n",
       "\n",
       "    .dataframe thead th {\n",
       "        text-align: right;\n",
       "    }\n",
       "</style>\n",
       "<table border=\"1\" class=\"dataframe\">\n",
       "  <thead>\n",
       "    <tr style=\"text-align: right;\">\n",
       "      <th></th>\n",
       "      <th>Name</th>\n",
       "      <th>current_price</th>\n",
       "      <th>old_price</th>\n",
       "      <th>percent_discount</th>\n",
       "      <th>Reviews_no</th>\n",
       "      <th>Ratings</th>\n",
       "    </tr>\n",
       "  </thead>\n",
       "  <tbody>\n",
       "    <tr>\n",
       "      <th>0</th>\n",
       "      <td>Amtec AM-017-2.1 Speaker System 3000WATTS PMPO...</td>\n",
       "      <td>2697.0</td>\n",
       "      <td>3236.0</td>\n",
       "      <td>17%</td>\n",
       "      <td>(194)</td>\n",
       "      <td>3.8 out of 5</td>\n",
       "    </tr>\n",
       "    <tr>\n",
       "      <th>1</th>\n",
       "      <td>Amtec AM-03 2.1ch HI-FI Multimedia Speaker Sys...</td>\n",
       "      <td>5281.0</td>\n",
       "      <td>6607.0</td>\n",
       "      <td>20%</td>\n",
       "      <td>(79)</td>\n",
       "      <td>3.8 out of 5</td>\n",
       "    </tr>\n",
       "    <tr>\n",
       "      <th>2</th>\n",
       "      <td>WK 07 2.1CH HOME THEATER SPEAKER SYSTEM - 3000...</td>\n",
       "      <td>3034.0</td>\n",
       "      <td>3641.0</td>\n",
       "      <td>17%</td>\n",
       "      <td>(56)</td>\n",
       "      <td>3.8 out of 5</td>\n",
       "    </tr>\n",
       "    <tr>\n",
       "      <th>3</th>\n",
       "      <td>Vitron V635 3.1CH Multimedia Speaker System - ...</td>\n",
       "      <td>5169.0</td>\n",
       "      <td>6203.0</td>\n",
       "      <td>17%</td>\n",
       "      <td>(481)</td>\n",
       "      <td>4.1 out of 5</td>\n",
       "    </tr>\n",
       "    <tr>\n",
       "      <th>4</th>\n",
       "      <td>Amtec AM-109 Woofer System, Bluetooth,USB Oran...</td>\n",
       "      <td>2921.0</td>\n",
       "      <td>3505.0</td>\n",
       "      <td>17%</td>\n",
       "      <td>(150)</td>\n",
       "      <td>3.9 out of 5</td>\n",
       "    </tr>\n",
       "  </tbody>\n",
       "</table>\n",
       "</div>"
      ],
      "text/plain": [
       "                                                Name  current_price  \\\n",
       "0  Amtec AM-017-2.1 Speaker System 3000WATTS PMPO...         2697.0   \n",
       "1  Amtec AM-03 2.1ch HI-FI Multimedia Speaker Sys...         5281.0   \n",
       "2  WK 07 2.1CH HOME THEATER SPEAKER SYSTEM - 3000...         3034.0   \n",
       "3  Vitron V635 3.1CH Multimedia Speaker System - ...         5169.0   \n",
       "4  Amtec AM-109 Woofer System, Bluetooth,USB Oran...         2921.0   \n",
       "\n",
       "   old_price percent_discount Reviews_no       Ratings  \n",
       "0     3236.0              17%      (194)  3.8 out of 5  \n",
       "1     6607.0              20%       (79)  3.8 out of 5  \n",
       "2     3641.0              17%       (56)  3.8 out of 5  \n",
       "3     6203.0              17%      (481)  4.1 out of 5  \n",
       "4     3505.0              17%      (150)  3.9 out of 5  "
      ]
     },
     "execution_count": 66,
     "metadata": {},
     "output_type": "execute_result"
    }
   ],
   "source": [
    "jumia_df['old_price'] =jumia_df['old_price'].str.replace('KSh', '').str.replace(',','').astype(float)\n",
    "jumia_df.head()"
   ]
  },
  {
   "cell_type": "code",
   "execution_count": 67,
   "id": "5474438d",
   "metadata": {},
   "outputs": [
    {
     "data": {
      "text/html": [
       "<div>\n",
       "<style scoped>\n",
       "    .dataframe tbody tr th:only-of-type {\n",
       "        vertical-align: middle;\n",
       "    }\n",
       "\n",
       "    .dataframe tbody tr th {\n",
       "        vertical-align: top;\n",
       "    }\n",
       "\n",
       "    .dataframe thead th {\n",
       "        text-align: right;\n",
       "    }\n",
       "</style>\n",
       "<table border=\"1\" class=\"dataframe\">\n",
       "  <thead>\n",
       "    <tr style=\"text-align: right;\">\n",
       "      <th></th>\n",
       "      <th>Name</th>\n",
       "      <th>current_price</th>\n",
       "      <th>old_price</th>\n",
       "      <th>percent_discount</th>\n",
       "      <th>Reviews_no</th>\n",
       "      <th>Ratings</th>\n",
       "    </tr>\n",
       "  </thead>\n",
       "  <tbody>\n",
       "    <tr>\n",
       "      <th>0</th>\n",
       "      <td>Amtec AM-017-2.1 Speaker System 3000WATTS PMPO...</td>\n",
       "      <td>2697.0</td>\n",
       "      <td>3236.0</td>\n",
       "      <td>17.0</td>\n",
       "      <td>(194)</td>\n",
       "      <td>3.8 out of 5</td>\n",
       "    </tr>\n",
       "    <tr>\n",
       "      <th>1</th>\n",
       "      <td>Amtec AM-03 2.1ch HI-FI Multimedia Speaker Sys...</td>\n",
       "      <td>5281.0</td>\n",
       "      <td>6607.0</td>\n",
       "      <td>20.0</td>\n",
       "      <td>(79)</td>\n",
       "      <td>3.8 out of 5</td>\n",
       "    </tr>\n",
       "    <tr>\n",
       "      <th>2</th>\n",
       "      <td>WK 07 2.1CH HOME THEATER SPEAKER SYSTEM - 3000...</td>\n",
       "      <td>3034.0</td>\n",
       "      <td>3641.0</td>\n",
       "      <td>17.0</td>\n",
       "      <td>(56)</td>\n",
       "      <td>3.8 out of 5</td>\n",
       "    </tr>\n",
       "    <tr>\n",
       "      <th>3</th>\n",
       "      <td>Vitron V635 3.1CH Multimedia Speaker System - ...</td>\n",
       "      <td>5169.0</td>\n",
       "      <td>6203.0</td>\n",
       "      <td>17.0</td>\n",
       "      <td>(481)</td>\n",
       "      <td>4.1 out of 5</td>\n",
       "    </tr>\n",
       "    <tr>\n",
       "      <th>4</th>\n",
       "      <td>Amtec AM-109 Woofer System, Bluetooth,USB Oran...</td>\n",
       "      <td>2921.0</td>\n",
       "      <td>3505.0</td>\n",
       "      <td>17.0</td>\n",
       "      <td>(150)</td>\n",
       "      <td>3.9 out of 5</td>\n",
       "    </tr>\n",
       "  </tbody>\n",
       "</table>\n",
       "</div>"
      ],
      "text/plain": [
       "                                                Name  current_price  \\\n",
       "0  Amtec AM-017-2.1 Speaker System 3000WATTS PMPO...         2697.0   \n",
       "1  Amtec AM-03 2.1ch HI-FI Multimedia Speaker Sys...         5281.0   \n",
       "2  WK 07 2.1CH HOME THEATER SPEAKER SYSTEM - 3000...         3034.0   \n",
       "3  Vitron V635 3.1CH Multimedia Speaker System - ...         5169.0   \n",
       "4  Amtec AM-109 Woofer System, Bluetooth,USB Oran...         2921.0   \n",
       "\n",
       "   old_price  percent_discount Reviews_no       Ratings  \n",
       "0     3236.0              17.0      (194)  3.8 out of 5  \n",
       "1     6607.0              20.0       (79)  3.8 out of 5  \n",
       "2     3641.0              17.0       (56)  3.8 out of 5  \n",
       "3     6203.0              17.0      (481)  4.1 out of 5  \n",
       "4     3505.0              17.0      (150)  3.9 out of 5  "
      ]
     },
     "execution_count": 67,
     "metadata": {},
     "output_type": "execute_result"
    }
   ],
   "source": [
    "jumia_df ['percent_discount'] = jumia_df['percent_discount'].str.replace('%','').astype(float)\n",
    "jumia_df.head()"
   ]
  },
  {
   "cell_type": "code",
   "execution_count": 68,
   "id": "d18fbcee",
   "metadata": {},
   "outputs": [
    {
     "data": {
      "text/plain": [
       "<bound method NDFrame.head of                                                   Name  current_price  \\\n",
       "0    Amtec AM-017-2.1 Speaker System 3000WATTS PMPO...         2697.0   \n",
       "1    Amtec AM-03 2.1ch HI-FI Multimedia Speaker Sys...         5281.0   \n",
       "2    WK 07 2.1CH HOME THEATER SPEAKER SYSTEM - 3000...         3034.0   \n",
       "3    Vitron V635 3.1CH Multimedia Speaker System - ...         5169.0   \n",
       "4    Amtec AM-109 Woofer System, Bluetooth,USB Oran...         2921.0   \n",
       "..                                                 ...            ...   \n",
       "115       Vitron V646 3.1 Subwoofer strong base System         5999.0   \n",
       "116  Nobel 5.1 CH Multimedia Speaker BT/USB/SD/FM -...        13564.0   \n",
       "117    Nobel Powerful Big Hometheatre System Fm/usb/bt        12899.0   \n",
       "118  Vision Plus Sound Bar with Bluetooth Connectiv...        11495.0   \n",
       "119  Nobel 22000W 5.1CH BASS Home Theatre Sounds/BT...        19000.0   \n",
       "\n",
       "     old_price  percent_discount Reviews_no Ratings  \n",
       "0       3236.0              17.0      (194)    3.8   \n",
       "1       6607.0              20.0       (79)    3.8   \n",
       "2       3641.0              17.0       (56)    3.8   \n",
       "3       6203.0              17.0      (481)    4.1   \n",
       "4       3505.0              17.0      (150)    3.9   \n",
       "..         ...               ...        ...     ...  \n",
       "115     7000.0              14.0        NaN     NaN  \n",
       "116    19999.0              32.0       (14)    4.1   \n",
       "117    17000.0              24.0        NaN     NaN  \n",
       "118        NaN               NaN        NaN     NaN  \n",
       "119    24500.0              22.0        NaN     NaN  \n",
       "\n",
       "[120 rows x 6 columns]>"
      ]
     },
     "execution_count": 68,
     "metadata": {},
     "output_type": "execute_result"
    }
   ],
   "source": [
    "jumia_df['Ratings'] = jumia_df['Ratings'].str.replace('out of 5','')\n",
    "\n",
    "jumia_df.head"
   ]
  },
  {
   "cell_type": "code",
   "execution_count": 81,
   "id": "face7936",
   "metadata": {},
   "outputs": [
    {
     "data": {
      "text/html": [
       "<div>\n",
       "<style scoped>\n",
       "    .dataframe tbody tr th:only-of-type {\n",
       "        vertical-align: middle;\n",
       "    }\n",
       "\n",
       "    .dataframe tbody tr th {\n",
       "        vertical-align: top;\n",
       "    }\n",
       "\n",
       "    .dataframe thead th {\n",
       "        text-align: right;\n",
       "    }\n",
       "</style>\n",
       "<table border=\"1\" class=\"dataframe\">\n",
       "  <thead>\n",
       "    <tr style=\"text-align: right;\">\n",
       "      <th></th>\n",
       "      <th>Name</th>\n",
       "      <th>current_price</th>\n",
       "      <th>old_price</th>\n",
       "      <th>percent_discount</th>\n",
       "      <th>Reviews_no</th>\n",
       "      <th>Ratings</th>\n",
       "    </tr>\n",
       "  </thead>\n",
       "  <tbody>\n",
       "    <tr>\n",
       "      <th>0</th>\n",
       "      <td>Amtec AM-017-2.1 Speaker System 3000WATTS PMPO...</td>\n",
       "      <td>2697.0</td>\n",
       "      <td>3236.0</td>\n",
       "      <td>17.0</td>\n",
       "      <td>(194)</td>\n",
       "      <td>3.8</td>\n",
       "    </tr>\n",
       "    <tr>\n",
       "      <th>1</th>\n",
       "      <td>Amtec AM-03 2.1ch HI-FI Multimedia Speaker Sys...</td>\n",
       "      <td>5281.0</td>\n",
       "      <td>6607.0</td>\n",
       "      <td>20.0</td>\n",
       "      <td>(79)</td>\n",
       "      <td>3.8</td>\n",
       "    </tr>\n",
       "    <tr>\n",
       "      <th>2</th>\n",
       "      <td>WK 07 2.1CH HOME THEATER SPEAKER SYSTEM - 3000...</td>\n",
       "      <td>3034.0</td>\n",
       "      <td>3641.0</td>\n",
       "      <td>17.0</td>\n",
       "      <td>(56)</td>\n",
       "      <td>3.8</td>\n",
       "    </tr>\n",
       "    <tr>\n",
       "      <th>3</th>\n",
       "      <td>Vitron V635 3.1CH Multimedia Speaker System - ...</td>\n",
       "      <td>5169.0</td>\n",
       "      <td>6203.0</td>\n",
       "      <td>17.0</td>\n",
       "      <td>(481)</td>\n",
       "      <td>4.1</td>\n",
       "    </tr>\n",
       "    <tr>\n",
       "      <th>4</th>\n",
       "      <td>Amtec AM-109 Woofer System, Bluetooth,USB Oran...</td>\n",
       "      <td>2921.0</td>\n",
       "      <td>3505.0</td>\n",
       "      <td>17.0</td>\n",
       "      <td>(150)</td>\n",
       "      <td>3.9</td>\n",
       "    </tr>\n",
       "  </tbody>\n",
       "</table>\n",
       "</div>"
      ],
      "text/plain": [
       "                                                Name  current_price  \\\n",
       "0  Amtec AM-017-2.1 Speaker System 3000WATTS PMPO...         2697.0   \n",
       "1  Amtec AM-03 2.1ch HI-FI Multimedia Speaker Sys...         5281.0   \n",
       "2  WK 07 2.1CH HOME THEATER SPEAKER SYSTEM - 3000...         3034.0   \n",
       "3  Vitron V635 3.1CH Multimedia Speaker System - ...         5169.0   \n",
       "4  Amtec AM-109 Woofer System, Bluetooth,USB Oran...         2921.0   \n",
       "\n",
       "   old_price  percent_discount Reviews_no Ratings  \n",
       "0     3236.0              17.0      (194)    3.8   \n",
       "1     6607.0              20.0       (79)    3.8   \n",
       "2     3641.0              17.0       (56)    3.8   \n",
       "3     6203.0              17.0      (481)    4.1   \n",
       "4     3505.0              17.0      (150)    3.9   "
      ]
     },
     "execution_count": 81,
     "metadata": {},
     "output_type": "execute_result"
    }
   ],
   "source": [
    "\n",
    "\n",
    "jumia_df.head()"
   ]
  },
  {
   "cell_type": "code",
   "execution_count": null,
   "id": "205ec02a",
   "metadata": {},
   "outputs": [
    {
     "name": "stdout",
     "output_type": "stream",
     "text": [
      "Duplicate Rows except first occurrence:\n",
      "Empty DataFrame\n",
      "Columns: [Name, current_price, old_price, percent_discount, Reviews_no, Ratings]\n",
      "Index: []\n"
     ]
    }
   ],
   "source": [
    "duplicate_rows = jumia_df[jumia_df.duplicated()]\n",
    "print(\"Duplicate Rows except first occurrence:\")\n",
    "print(duplicate_rows)\n",
    "jumia_df.drop_duplicates(inplace=True)"
   ]
  },
  {
   "cell_type": "code",
   "execution_count": null,
   "id": "409fe33a",
   "metadata": {},
   "outputs": [
    {
     "name": "stdout",
     "output_type": "stream",
     "text": [
      "Null values in the DataFrame:\n",
      "      Name  current_price  old_price  percent_discount  Reviews_no  Ratings\n",
      "0    False          False      False             False       False    False\n",
      "1    False          False      False             False       False    False\n",
      "2    False          False      False             False       False    False\n",
      "3    False          False      False             False       False    False\n",
      "4    False          False      False             False       False    False\n",
      "..     ...            ...        ...               ...         ...      ...\n",
      "115  False          False      False             False        True     True\n",
      "116  False          False      False             False       False    False\n",
      "117  False          False      False             False        True     True\n",
      "118  False          False       True              True        True     True\n",
      "119  False          False      False             False        True     True\n",
      "\n",
      "[120 rows x 6 columns]\n"
     ]
    }
   ],
   "source": [
    "null_values = jumia_df.isnull()\n",
    "print(\"Null values in the DataFrame:\")\n",
    "print(null_values)"
   ]
  },
  {
   "cell_type": "code",
   "execution_count": 84,
   "id": "9fa40254",
   "metadata": {},
   "outputs": [
    {
     "ename": "ModuleNotFoundError",
     "evalue": "No module named 'dotenv'",
     "output_type": "error",
     "traceback": [
      "\u001b[31m---------------------------------------------------------------------------\u001b[39m",
      "\u001b[31mModuleNotFoundError\u001b[39m                       Traceback (most recent call last)",
      "\u001b[36mCell\u001b[39m\u001b[36m \u001b[39m\u001b[32mIn[84]\u001b[39m\u001b[32m, line 4\u001b[39m\n\u001b[32m      2\u001b[39m \u001b[38;5;28;01mimport\u001b[39;00m\u001b[38;5;250m \u001b[39m\u001b[34;01mos\u001b[39;00m\n\u001b[32m      3\u001b[39m \u001b[38;5;28;01mfrom\u001b[39;00m\u001b[38;5;250m \u001b[39m\u001b[34;01msqlalchemy\u001b[39;00m\u001b[38;5;250m \u001b[39m\u001b[38;5;28;01mimport\u001b[39;00m create_engine\n\u001b[32m----> \u001b[39m\u001b[32m4\u001b[39m \u001b[38;5;28;01mfrom\u001b[39;00m\u001b[38;5;250m \u001b[39m\u001b[34;01mdotenv\u001b[39;00m\u001b[38;5;250m \u001b[39m\u001b[38;5;28;01mimport\u001b[39;00m load_dotenv\n\u001b[32m      6\u001b[39m load_dotenv()\n\u001b[32m      7\u001b[39m \u001b[38;5;66;03m#load the environment variables\u001b[39;00m\n",
      "\u001b[31mModuleNotFoundError\u001b[39m: No module named 'dotenv'"
     ]
    }
   ],
   "source": [
    "#connect to dabase using environmental variables\n",
    "import os\n",
    "from sqlalchemy import create_engine\n",
    "from dotenv import load_dotenv\n",
    "\n",
    "load_dotenv()\n",
    "#load the environment variables\n",
    "name = os.getenv('DB_NAME')\n",
    "password = os.getenv('DB_PASSWORD')\n",
    "host = os.getenv('DB_HOST')\n",
    "port = os.getenv('DB_PORT') \n",
    "user = os.getenv('DB_USER')\n",
    "\n",
    "#connect to the database\n",
    "engine = create_engine(f'postgresql+psycopg2://{user}:{password}@{host}:{port}/{name}')\n"
   ]
  },
  {
   "cell_type": "code",
   "execution_count": 82,
   "id": "94a20724",
   "metadata": {},
   "outputs": [
    {
     "name": "stdout",
     "output_type": "stream",
     "text": [
      "Error saving to database: name 'engine' is not defined\n"
     ]
    }
   ],
   "source": [
    "# Save the DataFrame to PostgreSQL database\n",
    "try:\n",
    "    jumia_df.to_sql('jumia_products', engine, if_exists='replace', index=False)\n",
    "    print(\"Data successfully saved to database\")\n",
    "except Exception as e:\n",
    "    print(f\"Error saving to database: {e}\")\n"
   ]
  },
  {
   "cell_type": "code",
   "execution_count": 86,
   "id": "d84ed89f",
   "metadata": {},
   "outputs": [
    {
     "name": "stdout",
     "output_type": "stream",
     "text": [
      "Collecting python-dotenv\n",
      "  Using cached python_dotenv-1.1.0-py3-none-any.whl.metadata (24 kB)\n",
      "Using cached python_dotenv-1.1.0-py3-none-any.whl (20 kB)\n",
      "Installing collected packages: python-dotenv\n",
      "Successfully installed python-dotenv-1.1.0\n",
      "Note: you may need to restart the kernel to use updated packages.\n",
      "Success!\n"
     ]
    },
    {
     "name": "stderr",
     "output_type": "stream",
     "text": [
      "\n",
      "[notice] A new release of pip is available: 25.0.1 -> 25.1.1\n",
      "[notice] To update, run: python.exe -m pip install --upgrade pip\n"
     ]
    }
   ],
   "source": [
    "%pip install python-dotenv\n",
    "from dotenv import load_dotenv\n",
    "load_dotenv()\n",
    "print(\"Success!\")  # Should print without errors"
   ]
  },
  {
   "cell_type": "code",
   "execution_count": 87,
   "id": "2746325c",
   "metadata": {},
   "outputs": [
    {
     "name": "stdout",
     "output_type": "stream",
     "text": [
      "Success!\n"
     ]
    }
   ],
   "source": [
    "from dotenv import load_dotenv\n",
    "load_dotenv()\n",
    "print(\"Success!\")"
   ]
  },
  {
   "cell_type": "code",
   "execution_count": 91,
   "id": "b062e401",
   "metadata": {},
   "outputs": [
    {
     "data": {
      "text/plain": [
       "120"
      ]
     },
     "execution_count": 91,
     "metadata": {},
     "output_type": "execute_result"
    }
   ],
   "source": [
    "#connect to dabase using environmental variables\n",
    "import os\n",
    "from sqlalchemy import create_engine\n",
    "from dotenv import load_dotenv\n",
    "\n",
    "load_dotenv()\n",
    "#load the environment variables\n",
    "name = os.getenv('DB_NAME')\n",
    "password = os.getenv('DB_PASSWORD')\n",
    "host = os.getenv('DB_HOST')\n",
    "port = os.getenv('DB_PORT') \n",
    "user = os.getenv('DB_USER')\n",
    "\n",
    "#connect to the database\n",
    "engine = create_engine(f'postgresql+psycopg2://{user}:{password}@{host}:{port}/{name}')\n",
    "\n",
    "jumia_df.to_sql('jumia_products', engine, if_exists='replace', index=False)\n",
    "# Save the DataFrame to PostgreSQL database\n"
   ]
  }
 ],
 "metadata": {
  "kernelspec": {
   "display_name": "Soloenv",
   "language": "python",
   "name": "python3"
  },
  "language_info": {
   "codemirror_mode": {
    "name": "ipython",
    "version": 3
   },
   "file_extension": ".py",
   "mimetype": "text/x-python",
   "name": "python",
   "nbconvert_exporter": "python",
   "pygments_lexer": "ipython3",
   "version": "3.13.3"
  }
 },
 "nbformat": 4,
 "nbformat_minor": 5
}
